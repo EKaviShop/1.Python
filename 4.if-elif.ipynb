{
 "cells": [
  {
   "cell_type": "code",
   "execution_count": 3,
   "id": "af4ea8fb",
   "metadata": {},
   "outputs": [
    {
     "name": "stdout",
     "output_type": "stream",
     "text": [
      "Enter Age:46\n",
      "Citizen\n"
     ]
    }
   ],
   "source": [
    "age=int(input(\"Enter Age:\"))\n",
    "if(age<18):\n",
    "    print(\"Children\")\n",
    "elif(age <30):\n",
    "    print(\"Adult\")\n",
    "else:\n",
    "    print(\"Citizen\")\n"
   ]
  },
  {
   "cell_type": "code",
   "execution_count": 5,
   "id": "e99434a0",
   "metadata": {},
   "outputs": [
    {
     "name": "stdout",
     "output_type": "stream",
     "text": [
      "Enter Age:29\n",
      "Adult\n"
     ]
    }
   ],
   "source": [
    "age=int(input(\"Enter Age:\"))\n",
    "if(age<18):\n",
    "    print(\"Children\")\n",
    "elif(age <30):\n",
    "    print(\"Adult\")\n",
    "else:\n",
    "    print(\"Citizen\")"
   ]
  },
  {
   "cell_type": "code",
   "execution_count": 6,
   "id": "8a1539e8",
   "metadata": {},
   "outputs": [
    {
     "name": "stdout",
     "output_type": "stream",
     "text": [
      "Enter Age:40\n"
     ]
    }
   ],
   "source": [
    "age=int(input(\"Enter Age:\"))\n",
    "if(age<18):\n",
    "    print(\"Children\")\n",
    "elif(age <30):\n",
    "    print(\"Adult\")"
   ]
  },
  {
   "cell_type": "code",
   "execution_count": null,
   "id": "a5d8d757",
   "metadata": {},
   "outputs": [],
   "source": []
  }
 ],
 "metadata": {
  "kernelspec": {
   "display_name": "Python 3 (ipykernel)",
   "language": "python",
   "name": "python3"
  },
  "language_info": {
   "codemirror_mode": {
    "name": "ipython",
    "version": 3
   },
   "file_extension": ".py",
   "mimetype": "text/x-python",
   "name": "python",
   "nbconvert_exporter": "python",
   "pygments_lexer": "ipython3",
   "version": "3.11.5"
  }
 },
 "nbformat": 4,
 "nbformat_minor": 5
}
