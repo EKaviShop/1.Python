{
 "cells": [
  {
   "cell_type": "code",
   "execution_count": 1,
   "id": "aa787e90",
   "metadata": {},
   "outputs": [],
   "source": [
    "class SubfieldsInAI():\n",
    "    def Subfields():\n",
    "        list=[\"Sub-fields in AI are:\",\"Machine Learning\",\"Neural Networks\",\"Vision\",\"Robotics\",\"Speech Processing\",\"Natural Language Processing\"]\n",
    "        for val in list:\n",
    "            print(val)"
   ]
  },
  {
   "cell_type": "code",
   "execution_count": 2,
   "id": "267796bb",
   "metadata": {},
   "outputs": [
    {
     "name": "stdout",
     "output_type": "stream",
     "text": [
      "Sub-fields in AI are:\n",
      "Machine Learning\n",
      "Neural Networks\n",
      "Vision\n",
      "Robotics\n",
      "Speech Processing\n",
      "Natural Language Processing\n"
     ]
    }
   ],
   "source": [
    "SubfieldsInAI.Subfields()"
   ]
  },
  {
   "cell_type": "code",
   "execution_count": 3,
   "id": "b4abb4d8",
   "metadata": {},
   "outputs": [],
   "source": [
    "class OddEven():\n",
    "    def OddEven():\n",
    "        num=int(input(\"Enter a number:\"))\n",
    "        if(num%2==0):\n",
    "            print(num,\" is Even number\")\n",
    "        else:\n",
    "            print(num,\" is Odd number\")\n",
    "    "
   ]
  },
  {
   "cell_type": "code",
   "execution_count": 4,
   "id": "140599fa",
   "metadata": {},
   "outputs": [
    {
     "name": "stdout",
     "output_type": "stream",
     "text": [
      "Enter a number:5\n",
      "5  is Odd number\n"
     ]
    }
   ],
   "source": [
    "OddEven.OddEven()"
   ]
  },
  {
   "cell_type": "code",
   "execution_count": 5,
   "id": "6d6d5796",
   "metadata": {},
   "outputs": [],
   "source": [
    "class ElegiblityForMarriage():\n",
    "    def Elegible():\n",
    "        gender=input(\"Your Gender:\")\n",
    "        age=int(input(\"Your Age:\"))\n",
    "        if(gender==\"Male\"):\n",
    "            if(age <21):\n",
    "                print(\"NOT ELEGIBLE\")\n",
    "            else:\n",
    "                print(\"ELEGIBLE\")\n",
    "        elif(gender==\"Female\"):\n",
    "            if(age <18):\n",
    "                print(\"NOT ELEGIBLE\")\n",
    "            else:\n",
    "                print(\"ELEGIBLE\")"
   ]
  },
  {
   "cell_type": "code",
   "execution_count": 6,
   "id": "4e5652e6",
   "metadata": {},
   "outputs": [
    {
     "name": "stdout",
     "output_type": "stream",
     "text": [
      "Your Gender:Male\n",
      "Your Age:21\n",
      "ELEGIBLE\n"
     ]
    }
   ],
   "source": [
    "ElegiblityForMarriage.Elegible()"
   ]
  },
  {
   "cell_type": "code",
   "execution_count": 7,
   "id": "a2df6632",
   "metadata": {},
   "outputs": [
    {
     "name": "stdout",
     "output_type": "stream",
     "text": [
      "Your Gender:Female\n",
      "Your Age:12\n",
      "NOT ELEGIBLE\n"
     ]
    }
   ],
   "source": [
    "ElegiblityForMarriage.Elegible()\n"
   ]
  },
  {
   "cell_type": "code",
   "execution_count": 8,
   "id": "71ce722b",
   "metadata": {},
   "outputs": [],
   "source": [
    "class FindPercent():\n",
    "    def percentage():\n",
    "        subject1=int(input(\"Subject1:\"))\n",
    "        subject2=int(input(\"Subject2:\"))\n",
    "        subject3=int(input(\"Subject3:\"))\n",
    "        subject4=int(input(\"Subject4:\"))\n",
    "        subject5=int(input(\"Subject5:\"))\n",
    "        total=subject1+subject2+subject3+subject4+subject5\n",
    "        print(\"Total:\",total)\n",
    "        print(\"Percentage:\",(total/500)*100)"
   ]
  },
  {
   "cell_type": "code",
   "execution_count": 9,
   "id": "0900fff6",
   "metadata": {},
   "outputs": [
    {
     "name": "stdout",
     "output_type": "stream",
     "text": [
      "Subject1:98\n",
      "Subject2:95\n",
      "Subject3:95\n",
      "Subject4:87\n",
      "Subject5:93\n",
      "Total: 468\n",
      "Percentage: 93.60000000000001\n"
     ]
    }
   ],
   "source": [
    "FindPercent.percentage()\n"
   ]
  },
  {
   "cell_type": "code",
   "execution_count": 10,
   "id": "e6099505",
   "metadata": {},
   "outputs": [],
   "source": [
    "class triangle():\n",
    "    def triangle():\n",
    "        height=float(input(\"Height:\"))\n",
    "        breadth=float(input(\"Breadth:\"))\n",
    "        print(\"Area formula: (Height*Breadth)/2\")\n",
    "        print(\"Area of Triangle:\",(height*breadth)/2)\n",
    "    def Perimeter():\n",
    "        height1=float(input(\"Height1:\"))\n",
    "        height2=float(input(\"Height2:\"))\n",
    "        breadth=float(input(\"Breadth:\"))\n",
    "        print(\"Perimeter formula: Height1+Height2+Breadth\")\n",
    "        print(\"Perimeter of Triangle: \",height1+height2+breadth)"
   ]
  },
  {
   "cell_type": "code",
   "execution_count": 11,
   "id": "bdd6df3c",
   "metadata": {
    "scrolled": true
   },
   "outputs": [
    {
     "name": "stdout",
     "output_type": "stream",
     "text": [
      "Height:5\n",
      "Breadth:3\n",
      "Area formula: (Height*Breadth)/2\n",
      "Area of Triangle: 7.5\n"
     ]
    }
   ],
   "source": [
    "triangle.triangle()"
   ]
  },
  {
   "cell_type": "code",
   "execution_count": 12,
   "id": "08a2582a",
   "metadata": {
    "scrolled": true
   },
   "outputs": [
    {
     "name": "stdout",
     "output_type": "stream",
     "text": [
      "Height1:2\n",
      "Height2:6\n",
      "Breadth:2\n",
      "Perimeter formula: Height1+Height2+Breadth\n",
      "Perimeter of Triangle:  10.0\n"
     ]
    }
   ],
   "source": [
    "triangle.Perimeter()"
   ]
  },
  {
   "cell_type": "code",
   "execution_count": null,
   "id": "8aa2cba1",
   "metadata": {},
   "outputs": [],
   "source": []
  }
 ],
 "metadata": {
  "kernelspec": {
   "display_name": "Python 3 (ipykernel)",
   "language": "python",
   "name": "python3"
  },
  "language_info": {
   "codemirror_mode": {
    "name": "ipython",
    "version": 3
   },
   "file_extension": ".py",
   "mimetype": "text/x-python",
   "name": "python",
   "nbconvert_exporter": "python",
   "pygments_lexer": "ipython3",
   "version": "3.11.5"
  }
 },
 "nbformat": 4,
 "nbformat_minor": 5
}
