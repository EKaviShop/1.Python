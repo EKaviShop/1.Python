{
 "cells": [
  {
   "cell_type": "code",
   "execution_count": 2,
   "id": "1168b5eb",
   "metadata": {},
   "outputs": [],
   "source": [
    "def Subfields():\n",
    "    list=[\"Sub-fields in AI are:\",\"Machine Learning\",\"Neural Networks\",\"Vision\",\"Robotics\",\"Speech Processing\",\"Natural Language Processing\"]\n",
    "    for val in list:\n",
    "        print(val)\n",
    "    \n",
    "   "
   ]
  },
  {
   "cell_type": "code",
   "execution_count": 3,
   "id": "f95f26d4",
   "metadata": {},
   "outputs": [
    {
     "name": "stdout",
     "output_type": "stream",
     "text": [
      "Sub-fields in AI are:\n",
      "Machine Learning\n",
      "Neural Networks\n",
      "Vision\n",
      "Robotics\n",
      "Speech Processing\n",
      "Natural Language Processing\n"
     ]
    }
   ],
   "source": [
    "Subfields()"
   ]
  },
  {
   "cell_type": "code",
   "execution_count": 4,
   "id": "6f3f465f",
   "metadata": {},
   "outputs": [],
   "source": [
    "def OddEven():\n",
    "    num=int(input(\"Enter a number:\"))\n",
    "    if(num%2==0):\n",
    "        print(num,\" is Even number\")\n",
    "    else:\n",
    "        print(num,\" is Odd number\")\n",
    "    "
   ]
  },
  {
   "cell_type": "code",
   "execution_count": 5,
   "id": "8140c110",
   "metadata": {},
   "outputs": [
    {
     "name": "stdout",
     "output_type": "stream",
     "text": [
      "Enter a number:50\n",
      "50  is Even number\n"
     ]
    }
   ],
   "source": [
    "OddEven()"
   ]
  },
  {
   "cell_type": "code",
   "execution_count": 7,
   "id": "275cef98",
   "metadata": {},
   "outputs": [],
   "source": [
    "def Elegible():\n",
    "    gender=input(\"Your Gender:\")\n",
    "    age=int(input(\"Your Age:\"))\n",
    "    if(gender==\"Male\"):\n",
    "        if(age <21):\n",
    "            print(\"NOT ELEGIBLE\")\n",
    "        else:\n",
    "            print(\"ELEGIBLE\")\n",
    "    elif(gender==\"Female\"):\n",
    "        if(age <18):\n",
    "            print(\"NOT ELEGIBLE\")\n",
    "        else:\n",
    "            print(\"ELEGIBLE\")\n",
    "        \n",
    "    "
   ]
  },
  {
   "cell_type": "code",
   "execution_count": 10,
   "id": "0f4cffb1",
   "metadata": {},
   "outputs": [
    {
     "name": "stdout",
     "output_type": "stream",
     "text": [
      "Your Gender:Male\n",
      "Your Age:18\n",
      "NOT ELEGIBLE\n"
     ]
    }
   ],
   "source": [
    "Elegible()"
   ]
  },
  {
   "cell_type": "code",
   "execution_count": 25,
   "id": "e5845fa3",
   "metadata": {},
   "outputs": [],
   "source": [
    "def percentage():\n",
    "    subject1=int(input(\"Subject1:\"))\n",
    "    subject2=int(input(\"Subject2:\"))\n",
    "    subject3=int(input(\"Subject3:\"))\n",
    "    subject4=int(input(\"Subject4:\"))\n",
    "    subject5=int(input(\"Subject5:\"))\n",
    "    total=subject1+subject2+subject3+subject4+subject5\n",
    "    print(\"Total:\",total)\n",
    "    print(\"Percentage:\",(total/500)*100)"
   ]
  },
  {
   "cell_type": "code",
   "execution_count": 27,
   "id": "1ab8bc06",
   "metadata": {},
   "outputs": [
    {
     "name": "stdout",
     "output_type": "stream",
     "text": [
      "Subject1:98\n",
      "Subject2:87\n",
      "Subject3:95\n",
      "Subject4:95\n",
      "Subject5:93\n",
      "Total: 468\n",
      "Percentage: 93.60000000000001\n"
     ]
    }
   ],
   "source": [
    "percentage()"
   ]
  },
  {
   "cell_type": "code",
   "execution_count": 28,
   "id": "0c2d3298",
   "metadata": {},
   "outputs": [],
   "source": [
    "def triangle():\n",
    "    height=float(input(\"Height:\"))\n",
    "    breadth=float(input(\"Breadth:\"))\n",
    "    print(\"Area formula: (Height*Breadth)/2\")\n",
    "    print(\"Area of Triangle:\",(height*breadth)/2)"
   ]
  },
  {
   "cell_type": "code",
   "execution_count": 29,
   "id": "71287b36",
   "metadata": {},
   "outputs": [
    {
     "name": "stdout",
     "output_type": "stream",
     "text": [
      "Height:32\n",
      "Breadth:34\n",
      "Area formula: (Height*Breadth)/2\n",
      "Area of Triangle: 544.0\n"
     ]
    }
   ],
   "source": [
    "triangle()"
   ]
  },
  {
   "cell_type": "code",
   "execution_count": 30,
   "id": "9d05f554",
   "metadata": {},
   "outputs": [],
   "source": [
    "def Perimeter():\n",
    "    height1=float(input(\"Height1:\"))\n",
    "    height2=float(input(\"Height2:\"))\n",
    "    breadth=float(input(\"Breadth:\"))\n",
    "    print(\"Perimeter formula: Height1+Height2+Breadth\")\n",
    "    print(\"Perimeter of Triangle: \",height1+height2+breadth)"
   ]
  },
  {
   "cell_type": "code",
   "execution_count": 31,
   "id": "45f7c5dc",
   "metadata": {},
   "outputs": [
    {
     "name": "stdout",
     "output_type": "stream",
     "text": [
      "Height1:2\n",
      "Height2:4\n",
      "Breadth:4\n",
      "Perimeter formula: Height1+Height2+Breadth\n",
      "Perimeter of Triangle:  10.0\n"
     ]
    }
   ],
   "source": [
    "Perimeter()"
   ]
  },
  {
   "cell_type": "code",
   "execution_count": null,
   "id": "d588894f",
   "metadata": {},
   "outputs": [],
   "source": []
  }
 ],
 "metadata": {
  "kernelspec": {
   "display_name": "Python 3 (ipykernel)",
   "language": "python",
   "name": "python3"
  },
  "language_info": {
   "codemirror_mode": {
    "name": "ipython",
    "version": 3
   },
   "file_extension": ".py",
   "mimetype": "text/x-python",
   "name": "python",
   "nbconvert_exporter": "python",
   "pygments_lexer": "ipython3",
   "version": "3.11.5"
  }
 },
 "nbformat": 4,
 "nbformat_minor": 5
}
