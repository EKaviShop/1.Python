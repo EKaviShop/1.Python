{
 "cells": [
  {
   "cell_type": "code",
   "execution_count": 1,
   "id": "0528c727",
   "metadata": {},
   "outputs": [],
   "source": [
    "def AgeCategory(age):\n",
    "    if(age<18):\n",
    "        print(\"Children\")\n",
    "    elif(age <30):\n",
    "        print(\"Adult\")\n",
    "    else:\n",
    "        print(\"Citizen\")\n"
   ]
  },
  {
   "cell_type": "code",
   "execution_count": 2,
   "id": "1cfcc80b",
   "metadata": {},
   "outputs": [
    {
     "name": "stdout",
     "output_type": "stream",
     "text": [
      "Enter Age :12\n",
      "Children\n",
      "None\n"
     ]
    }
   ],
   "source": [
    "age=int(input(\"Enter Age :\"))\n",
    "print(AgeCategory(age))"
   ]
  },
  {
   "cell_type": "code",
   "execution_count": 3,
   "id": "686e4984",
   "metadata": {},
   "outputs": [],
   "source": [
    "def AgeCategorys(age1):\n",
    "    if(age1<18):\n",
    "        print(\"Children\")\n",
    "        category=\"Children\"\n",
    "    elif(age1 <30):\n",
    "        print(\"Adult\")\n",
    "        category=\"Adult\"\n",
    "    else:\n",
    "        print(\"Citizen\")\n",
    "        category=\"Citizen\"\n",
    "    return category\n"
   ]
  },
  {
   "cell_type": "code",
   "execution_count": 4,
   "id": "4cd1dbb4",
   "metadata": {},
   "outputs": [
    {
     "name": "stdout",
     "output_type": "stream",
     "text": [
      "Adult\n",
      "None\n"
     ]
    }
   ],
   "source": [
    "category=AgeCategory(25)\n",
    "print(category)"
   ]
  },
  {
   "cell_type": "code",
   "execution_count": 7,
   "id": "000ce18c",
   "metadata": {},
   "outputs": [
    {
     "name": "stdout",
     "output_type": "stream",
     "text": [
      "Citizen\n",
      "Citizen\n"
     ]
    }
   ],
   "source": [
    "category1=AgeCategorys(30)\n",
    "print(category1)"
   ]
  },
  {
   "cell_type": "code",
   "execution_count": 8,
   "id": "26719e92",
   "metadata": {},
   "outputs": [
    {
     "name": "stdout",
     "output_type": "stream",
     "text": [
      "Citizen\n",
      "None\n"
     ]
    }
   ],
   "source": [
    "print(AgeCategory(35))"
   ]
  },
  {
   "cell_type": "code",
   "execution_count": null,
   "id": "acae88a7",
   "metadata": {},
   "outputs": [],
   "source": []
  }
 ],
 "metadata": {
  "kernelspec": {
   "display_name": "Python 3 (ipykernel)",
   "language": "python",
   "name": "python3"
  },
  "language_info": {
   "codemirror_mode": {
    "name": "ipython",
    "version": 3
   },
   "file_extension": ".py",
   "mimetype": "text/x-python",
   "name": "python",
   "nbconvert_exporter": "python",
   "pygments_lexer": "ipython3",
   "version": "3.11.5"
  }
 },
 "nbformat": 4,
 "nbformat_minor": 5
}
