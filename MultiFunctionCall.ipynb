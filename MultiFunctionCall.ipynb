{
 "cells": [
  {
   "cell_type": "code",
   "execution_count": 1,
   "id": "f7f228dd",
   "metadata": {},
   "outputs": [],
   "source": [
    "from MultiFunction import multifunction"
   ]
  },
  {
   "cell_type": "code",
   "execution_count": 2,
   "id": "6b4b0ab9",
   "metadata": {},
   "outputs": [
    {
     "name": "stdout",
     "output_type": "stream",
     "text": [
      "Sub-fields in AI are:\n",
      "Machine Learning\n",
      "Neural Networks\n",
      "Vision\n",
      "Robotics\n",
      "Speech Processing\n",
      "Natural Language Processing\n"
     ]
    }
   ],
   "source": [
    "multifunction.Subfields()"
   ]
  },
  {
   "cell_type": "code",
   "execution_count": 3,
   "id": "8acb712b",
   "metadata": {},
   "outputs": [
    {
     "name": "stdout",
     "output_type": "stream",
     "text": [
      "Enter a number:5\n",
      "5  is Odd number\n"
     ]
    }
   ],
   "source": [
    "multifunction.OddEven()"
   ]
  },
  {
   "cell_type": "code",
   "execution_count": 5,
   "id": "168d37f5",
   "metadata": {},
   "outputs": [
    {
     "name": "stdout",
     "output_type": "stream",
     "text": [
      "Your Gender:Male\n",
      "Your Age:26\n",
      "ELEGIBLE\n"
     ]
    }
   ],
   "source": [
    "multifunction.Elegible()"
   ]
  },
  {
   "cell_type": "code",
   "execution_count": 6,
   "id": "7b04c279",
   "metadata": {},
   "outputs": [
    {
     "name": "stdout",
     "output_type": "stream",
     "text": [
      "Subject1:98\n",
      "Subject2:96\n",
      "Subject3:93\n",
      "Subject4:96\n",
      "Subject5:96\n",
      "Total: 479\n",
      "Percentage: 95.8\n"
     ]
    }
   ],
   "source": [
    "multifunction.percentage()\n"
   ]
  },
  {
   "cell_type": "code",
   "execution_count": 7,
   "id": "222f30d6",
   "metadata": {},
   "outputs": [
    {
     "name": "stdout",
     "output_type": "stream",
     "text": [
      "Height:6\n",
      "Breadth:3\n",
      "Area formula: (Height*Breadth)/2\n",
      "Area of Triangle: 9.0\n"
     ]
    }
   ],
   "source": [
    "multifunction.triangle()"
   ]
  },
  {
   "cell_type": "code",
   "execution_count": 8,
   "id": "e4a21ece",
   "metadata": {},
   "outputs": [
    {
     "name": "stdout",
     "output_type": "stream",
     "text": [
      "Height1:6\n",
      "Height2:9\n",
      "Breadth:3\n",
      "Perimeter formula: Height1+Height2+Breadth\n",
      "Perimeter of Triangle:  18.0\n"
     ]
    }
   ],
   "source": [
    "multifunction.Perimeter()"
   ]
  },
  {
   "cell_type": "code",
   "execution_count": null,
   "id": "1140c0f6",
   "metadata": {},
   "outputs": [],
   "source": []
  },
  {
   "cell_type": "code",
   "execution_count": null,
   "id": "ff63e5de",
   "metadata": {},
   "outputs": [],
   "source": []
  }
 ],
 "metadata": {
  "kernelspec": {
   "display_name": "Python 3 (ipykernel)",
   "language": "python",
   "name": "python3"
  },
  "language_info": {
   "codemirror_mode": {
    "name": "ipython",
    "version": 3
   },
   "file_extension": ".py",
   "mimetype": "text/x-python",
   "name": "python",
   "nbconvert_exporter": "python",
   "pygments_lexer": "ipython3",
   "version": "3.11.5"
  }
 },
 "nbformat": 4,
 "nbformat_minor": 5
}
